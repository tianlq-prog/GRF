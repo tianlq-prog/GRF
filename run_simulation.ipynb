{
 "cells": [
  {
   "cell_type": "code",
   "execution_count": 3,
   "metadata": {},
   "outputs": [],
   "source": [
    "from sim_data import *  # simulate dataset \n",
    "from graph_nn import *\n",
    "import statistics\n",
    "\n",
    "from __future__ import print_function\n",
    "import numpy as np\n",
    "import tensorflow as tf\n",
    "from sklearn.utils import shuffle\n",
    "from sklearn import metrics\n",
    "from random import seed\n",
    "import sys\n",
    "import igraph"
   ]
  },
  {
   "cell_type": "code",
   "execution_count": 4,
   "metadata": {},
   "outputs": [
    {
     "name": "stdout",
     "output_type": "stream",
     "text": [
      "1\n",
      "1\n",
      "1\n",
      "1\n",
      "1\n",
      "1\n",
      "1\n",
      "1\n",
      "1\n",
      "1\n",
      "1\n",
      "1\n",
      "1\n",
      "FIND CORE\n",
      "find true predictors\n"
     ]
    },
    {
     "name": "stderr",
     "output_type": "stream",
     "text": [
      "/home/leqi/leqi/code/graph_nn_new/sim_data.py:111: RuntimeWarning: covariance is not symmetric positive-semidefinite.\n",
      "  X = np.random.multivariate_normal(mean, covariance, N)\n",
      "R[write to console]: randomForest 4.7-1.1\n",
      "\n",
      "R[write to console]: Type rfNews() to see new features/changes/bug fixes.\n",
      "\n"
     ]
    },
    {
     "name": "stdout",
     "output_type": "stream",
     "text": [
      "finish with graph-rf\n",
      "finish with graph-rf\n",
      "finish with graph-rf\n"
     ]
    }
   ],
   "source": [
    "import statistics\n",
    "from ngf import *\n",
    "from sklearn.metrics import roc_auc_score,average_precision_score, recall_score, f1_score\n",
    "\n",
    "filename = \"simulation_res.csv\"\n",
    "sim_name = [\"method\", \"ba_m\" ,\"N\", \"num_nodes\", \"true_predictors\", \"feature_per_core\", \"link\",  \"iter_near_size\", \"acc\", \"roc\", \n",
    "            \"prauc\", \"density\",  \"n_connected\", \"num_max_com\", \"mean_dist\", \"mean_dist_max\"]\n",
    "\n",
    "\n",
    "if not(os.path.exists(filename)):\n",
    "    with open(filename,\"a\") as csvfile:\n",
    "        writer = csv.writer(csvfile)\n",
    "        writer.writerow(sim_name)\n",
    "\n",
    "num_core = 2; N = 500; num_nodes = 4000; feature_per_core = 5; ba_m = 2; thres = 100; iter_near_size = 2;\n",
    "\n",
    "true_predictors=100\n",
    "link = \"logistic\"\n",
    "\n",
    "################ simulate a dataset ###############\n",
    "X, y, covariance, beta0, predictors, dist, graph, pp = simulation_data(num_core, N, feature_per_core,\n",
    "                                                                   num_nodes, true_predictors, link, ba_power = 0.5, want_plot = True, ba_m = ba_m)\n",
    "dist_real = dist.copy()\n",
    "\n",
    "true_predictors_l = np.zeros(num_nodes)\n",
    "true_predictors_l[predictors] = 1\n",
    "\n",
    "\n",
    "################ graph-rf ################            \n",
    "for iter_near_size in [3,2,1]:\n",
    "\n",
    "    for k in range(1):\n",
    "        imp_g, acc_g, roc_g, prauc_g = graph_rf(X, y, iter_near_size, dist, true_predictors_l)\n",
    "        #dens_g, n_cnt_g,_ = sub_graph(imp_g, dist, thres)\n",
    "        #density, n_connected, max_count, mean_dist, mean_dist_in_largest, pp\n",
    "        dens_g, n_cnt_g, max_count_g, mean_dist_g, mean_dist_in_largest_g, _ = sub_graph(imp_g, dist, thres)\n",
    "\n",
    "\n",
    "    with open(filename,\"a\") as csvfile:\n",
    "        writer = csv.writer(csvfile)\n",
    "        writer.writerow([\"graph\"]+ [ba_m, N, num_nodes, true_predictors, feature_per_core, link, iter_near_size, acc_g, roc_g,\n",
    "                                    prauc_g, dens_g, n_cnt_g, max_count_g, mean_dist_g, mean_dist_in_largest_g])\n",
    "    print(\"finish with graph-rf\")"
   ]
  }
 ],
 "metadata": {
  "kernelspec": {
   "display_name": "Python 3 (ipykernel)",
   "language": "python",
   "name": "python3"
  },
  "language_info": {
   "codemirror_mode": {
    "name": "ipython",
    "version": 3
   },
   "file_extension": ".py",
   "mimetype": "text/x-python",
   "name": "python",
   "nbconvert_exporter": "python",
   "pygments_lexer": "ipython3",
   "version": "3.9.13"
  }
 },
 "nbformat": 4,
 "nbformat_minor": 4
}
